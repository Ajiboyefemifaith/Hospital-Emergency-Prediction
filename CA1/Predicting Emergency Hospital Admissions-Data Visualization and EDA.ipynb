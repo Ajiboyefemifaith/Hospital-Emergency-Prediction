{
 "cells": [
  {
   "cell_type": "markdown",
   "id": "03f3d402",
   "metadata": {},
   "source": [
    "# Importing Libraries"
   ]
  },
  {
   "cell_type": "code",
   "execution_count": 1,
   "id": "34a47891",
   "metadata": {},
   "outputs": [],
   "source": [
    "import pandas as pd\n",
    "import numpy as np\n",
    "import matplotlib.pyplot as plt\n",
    "import seaborn as sns\n",
    "import os"
   ]
  },
  {
   "cell_type": "markdown",
   "id": "c344a729",
   "metadata": {},
   "source": [
    "# Load Data"
   ]
  },
  {
   "cell_type": "code",
   "execution_count": 2,
   "id": "ddb5f1eb",
   "metadata": {},
   "outputs": [],
   "source": [
    "df = pd.read_csv('data/processed_data.csv')"
   ]
  },
  {
   "cell_type": "markdown",
   "id": "3e8ab107",
   "metadata": {},
   "source": [
    "# EDA"
   ]
  },
  {
   "cell_type": "code",
   "execution_count": 3,
   "id": "0b6e80ee",
   "metadata": {
    "scrolled": true
   },
   "outputs": [
    {
     "data": {
      "text/html": [
       "<div>\n",
       "<style scoped>\n",
       "    .dataframe tbody tr th:only-of-type {\n",
       "        vertical-align: middle;\n",
       "    }\n",
       "\n",
       "    .dataframe tbody tr th {\n",
       "        vertical-align: top;\n",
       "    }\n",
       "\n",
       "    .dataframe thead th {\n",
       "        text-align: right;\n",
       "    }\n",
       "</style>\n",
       "<table border=\"1\" class=\"dataframe\">\n",
       "  <thead>\n",
       "    <tr style=\"text-align: right;\">\n",
       "      <th></th>\n",
       "      <th>Age</th>\n",
       "      <th>Gender</th>\n",
       "      <th>Blood Type</th>\n",
       "      <th>Medical Condition</th>\n",
       "      <th>Date of Admission</th>\n",
       "      <th>Hospital</th>\n",
       "      <th>Insurance Provider</th>\n",
       "      <th>Billing Amount</th>\n",
       "      <th>Admission Type</th>\n",
       "      <th>Discharge Date</th>\n",
       "      <th>Medication</th>\n",
       "      <th>Test Results</th>\n",
       "      <th>target</th>\n",
       "    </tr>\n",
       "  </thead>\n",
       "  <tbody>\n",
       "    <tr>\n",
       "      <th>0</th>\n",
       "      <td>30</td>\n",
       "      <td>Male</td>\n",
       "      <td>B-</td>\n",
       "      <td>Cancer</td>\n",
       "      <td>2024-01-31</td>\n",
       "      <td>Sons and Miller</td>\n",
       "      <td>Blue Cross</td>\n",
       "      <td>18856.281306</td>\n",
       "      <td>Urgent</td>\n",
       "      <td>2024-02-02</td>\n",
       "      <td>Paracetamol</td>\n",
       "      <td>Normal</td>\n",
       "      <td>0</td>\n",
       "    </tr>\n",
       "    <tr>\n",
       "      <th>1</th>\n",
       "      <td>62</td>\n",
       "      <td>Male</td>\n",
       "      <td>A+</td>\n",
       "      <td>Obesity</td>\n",
       "      <td>2019-08-20</td>\n",
       "      <td>Kim Inc</td>\n",
       "      <td>Medicare</td>\n",
       "      <td>33643.327287</td>\n",
       "      <td>Emergency</td>\n",
       "      <td>2019-08-26</td>\n",
       "      <td>Ibuprofen</td>\n",
       "      <td>Inconclusive</td>\n",
       "      <td>1</td>\n",
       "    </tr>\n",
       "    <tr>\n",
       "      <th>2</th>\n",
       "      <td>76</td>\n",
       "      <td>Female</td>\n",
       "      <td>A-</td>\n",
       "      <td>Obesity</td>\n",
       "      <td>2022-09-22</td>\n",
       "      <td>Cook PLC</td>\n",
       "      <td>Aetna</td>\n",
       "      <td>27955.096079</td>\n",
       "      <td>Emergency</td>\n",
       "      <td>2022-10-07</td>\n",
       "      <td>Aspirin</td>\n",
       "      <td>Normal</td>\n",
       "      <td>1</td>\n",
       "    </tr>\n",
       "    <tr>\n",
       "      <th>3</th>\n",
       "      <td>28</td>\n",
       "      <td>Female</td>\n",
       "      <td>O+</td>\n",
       "      <td>Diabetes</td>\n",
       "      <td>2020-11-18</td>\n",
       "      <td>Hernandez Rogers and Vang,</td>\n",
       "      <td>Medicare</td>\n",
       "      <td>37909.782410</td>\n",
       "      <td>Elective</td>\n",
       "      <td>2020-12-18</td>\n",
       "      <td>Ibuprofen</td>\n",
       "      <td>Abnormal</td>\n",
       "      <td>0</td>\n",
       "    </tr>\n",
       "    <tr>\n",
       "      <th>4</th>\n",
       "      <td>43</td>\n",
       "      <td>Female</td>\n",
       "      <td>AB+</td>\n",
       "      <td>Cancer</td>\n",
       "      <td>2022-09-19</td>\n",
       "      <td>White-White</td>\n",
       "      <td>Aetna</td>\n",
       "      <td>14238.317814</td>\n",
       "      <td>Urgent</td>\n",
       "      <td>2022-10-09</td>\n",
       "      <td>Penicillin</td>\n",
       "      <td>Abnormal</td>\n",
       "      <td>0</td>\n",
       "    </tr>\n",
       "  </tbody>\n",
       "</table>\n",
       "</div>"
      ],
      "text/plain": [
       "   Age  Gender Blood Type Medical Condition Date of Admission  \\\n",
       "0   30    Male         B-            Cancer        2024-01-31   \n",
       "1   62    Male         A+           Obesity        2019-08-20   \n",
       "2   76  Female         A-           Obesity        2022-09-22   \n",
       "3   28  Female         O+          Diabetes        2020-11-18   \n",
       "4   43  Female        AB+            Cancer        2022-09-19   \n",
       "\n",
       "                     Hospital Insurance Provider  Billing Amount  \\\n",
       "0             Sons and Miller         Blue Cross    18856.281306   \n",
       "1                     Kim Inc           Medicare    33643.327287   \n",
       "2                    Cook PLC              Aetna    27955.096079   \n",
       "3  Hernandez Rogers and Vang,           Medicare    37909.782410   \n",
       "4                 White-White              Aetna    14238.317814   \n",
       "\n",
       "  Admission Type Discharge Date   Medication  Test Results  target  \n",
       "0         Urgent     2024-02-02  Paracetamol        Normal       0  \n",
       "1      Emergency     2019-08-26    Ibuprofen  Inconclusive       1  \n",
       "2      Emergency     2022-10-07      Aspirin        Normal       1  \n",
       "3       Elective     2020-12-18    Ibuprofen      Abnormal       0  \n",
       "4         Urgent     2022-10-09   Penicillin      Abnormal       0  "
      ]
     },
     "execution_count": 3,
     "metadata": {},
     "output_type": "execute_result"
    }
   ],
   "source": [
    "df.head()"
   ]
  },
  {
   "cell_type": "code",
   "execution_count": 4,
   "id": "18864be1",
   "metadata": {},
   "outputs": [
    {
     "data": {
      "text/plain": [
       "(55500, 13)"
      ]
     },
     "execution_count": 4,
     "metadata": {},
     "output_type": "execute_result"
    }
   ],
   "source": [
    "df.shape"
   ]
  },
  {
   "cell_type": "code",
   "execution_count": 5,
   "id": "54045dcb",
   "metadata": {},
   "outputs": [
    {
     "data": {
      "text/plain": [
       "Index(['Age', 'Gender', 'Blood Type', 'Medical Condition', 'Date of Admission',\n",
       "       'Hospital', 'Insurance Provider', 'Billing Amount', 'Admission Type',\n",
       "       'Discharge Date', 'Medication', 'Test Results', 'target'],\n",
       "      dtype='object')"
      ]
     },
     "execution_count": 5,
     "metadata": {},
     "output_type": "execute_result"
    }
   ],
   "source": [
    "df.columns"
   ]
  },
  {
   "cell_type": "code",
   "execution_count": 6,
   "id": "d0381992",
   "metadata": {},
   "outputs": [
    {
     "data": {
      "text/html": [
       "<div>\n",
       "<style scoped>\n",
       "    .dataframe tbody tr th:only-of-type {\n",
       "        vertical-align: middle;\n",
       "    }\n",
       "\n",
       "    .dataframe tbody tr th {\n",
       "        vertical-align: top;\n",
       "    }\n",
       "\n",
       "    .dataframe thead th {\n",
       "        text-align: right;\n",
       "    }\n",
       "</style>\n",
       "<table border=\"1\" class=\"dataframe\">\n",
       "  <thead>\n",
       "    <tr style=\"text-align: right;\">\n",
       "      <th></th>\n",
       "      <th>Age</th>\n",
       "      <th>Billing Amount</th>\n",
       "      <th>target</th>\n",
       "    </tr>\n",
       "  </thead>\n",
       "  <tbody>\n",
       "    <tr>\n",
       "      <th>count</th>\n",
       "      <td>55500.000000</td>\n",
       "      <td>55500.000000</td>\n",
       "      <td>55500.000000</td>\n",
       "    </tr>\n",
       "    <tr>\n",
       "      <th>mean</th>\n",
       "      <td>51.539459</td>\n",
       "      <td>25539.316097</td>\n",
       "      <td>0.329171</td>\n",
       "    </tr>\n",
       "    <tr>\n",
       "      <th>std</th>\n",
       "      <td>19.602454</td>\n",
       "      <td>14211.454431</td>\n",
       "      <td>0.469916</td>\n",
       "    </tr>\n",
       "    <tr>\n",
       "      <th>min</th>\n",
       "      <td>13.000000</td>\n",
       "      <td>-2008.492140</td>\n",
       "      <td>0.000000</td>\n",
       "    </tr>\n",
       "    <tr>\n",
       "      <th>25%</th>\n",
       "      <td>35.000000</td>\n",
       "      <td>13241.224652</td>\n",
       "      <td>0.000000</td>\n",
       "    </tr>\n",
       "    <tr>\n",
       "      <th>50%</th>\n",
       "      <td>52.000000</td>\n",
       "      <td>25538.069376</td>\n",
       "      <td>0.000000</td>\n",
       "    </tr>\n",
       "    <tr>\n",
       "      <th>75%</th>\n",
       "      <td>68.000000</td>\n",
       "      <td>37820.508436</td>\n",
       "      <td>1.000000</td>\n",
       "    </tr>\n",
       "    <tr>\n",
       "      <th>max</th>\n",
       "      <td>89.000000</td>\n",
       "      <td>52764.276736</td>\n",
       "      <td>1.000000</td>\n",
       "    </tr>\n",
       "  </tbody>\n",
       "</table>\n",
       "</div>"
      ],
      "text/plain": [
       "                Age  Billing Amount        target\n",
       "count  55500.000000    55500.000000  55500.000000\n",
       "mean      51.539459    25539.316097      0.329171\n",
       "std       19.602454    14211.454431      0.469916\n",
       "min       13.000000    -2008.492140      0.000000\n",
       "25%       35.000000    13241.224652      0.000000\n",
       "50%       52.000000    25538.069376      0.000000\n",
       "75%       68.000000    37820.508436      1.000000\n",
       "max       89.000000    52764.276736      1.000000"
      ]
     },
     "execution_count": 6,
     "metadata": {},
     "output_type": "execute_result"
    }
   ],
   "source": [
    "#summary statistics for numerical data\n",
    "df.describe()"
   ]
  },
  {
   "cell_type": "code",
   "execution_count": 7,
   "id": "5774e5be",
   "metadata": {},
   "outputs": [
    {
     "data": {
      "text/html": [
       "<div>\n",
       "<style scoped>\n",
       "    .dataframe tbody tr th:only-of-type {\n",
       "        vertical-align: middle;\n",
       "    }\n",
       "\n",
       "    .dataframe tbody tr th {\n",
       "        vertical-align: top;\n",
       "    }\n",
       "\n",
       "    .dataframe thead th {\n",
       "        text-align: right;\n",
       "    }\n",
       "</style>\n",
       "<table border=\"1\" class=\"dataframe\">\n",
       "  <thead>\n",
       "    <tr style=\"text-align: right;\">\n",
       "      <th></th>\n",
       "      <th>Gender</th>\n",
       "      <th>Blood Type</th>\n",
       "      <th>Medical Condition</th>\n",
       "      <th>Date of Admission</th>\n",
       "      <th>Hospital</th>\n",
       "      <th>Insurance Provider</th>\n",
       "      <th>Admission Type</th>\n",
       "      <th>Discharge Date</th>\n",
       "      <th>Medication</th>\n",
       "      <th>Test Results</th>\n",
       "    </tr>\n",
       "  </thead>\n",
       "  <tbody>\n",
       "    <tr>\n",
       "      <th>count</th>\n",
       "      <td>55500</td>\n",
       "      <td>55500</td>\n",
       "      <td>55500</td>\n",
       "      <td>55500</td>\n",
       "      <td>55500</td>\n",
       "      <td>55500</td>\n",
       "      <td>55500</td>\n",
       "      <td>55500</td>\n",
       "      <td>55500</td>\n",
       "      <td>55500</td>\n",
       "    </tr>\n",
       "    <tr>\n",
       "      <th>unique</th>\n",
       "      <td>2</td>\n",
       "      <td>8</td>\n",
       "      <td>6</td>\n",
       "      <td>1827</td>\n",
       "      <td>39876</td>\n",
       "      <td>5</td>\n",
       "      <td>3</td>\n",
       "      <td>1856</td>\n",
       "      <td>5</td>\n",
       "      <td>3</td>\n",
       "    </tr>\n",
       "    <tr>\n",
       "      <th>top</th>\n",
       "      <td>Male</td>\n",
       "      <td>A-</td>\n",
       "      <td>Arthritis</td>\n",
       "      <td>2024-03-16</td>\n",
       "      <td>LLC Smith</td>\n",
       "      <td>Cigna</td>\n",
       "      <td>Elective</td>\n",
       "      <td>2020-03-15</td>\n",
       "      <td>Lipitor</td>\n",
       "      <td>Abnormal</td>\n",
       "    </tr>\n",
       "    <tr>\n",
       "      <th>freq</th>\n",
       "      <td>27774</td>\n",
       "      <td>6969</td>\n",
       "      <td>9308</td>\n",
       "      <td>50</td>\n",
       "      <td>44</td>\n",
       "      <td>11249</td>\n",
       "      <td>18655</td>\n",
       "      <td>53</td>\n",
       "      <td>11140</td>\n",
       "      <td>18627</td>\n",
       "    </tr>\n",
       "  </tbody>\n",
       "</table>\n",
       "</div>"
      ],
      "text/plain": [
       "       Gender Blood Type Medical Condition Date of Admission   Hospital  \\\n",
       "count   55500      55500             55500             55500      55500   \n",
       "unique      2          8                 6              1827      39876   \n",
       "top      Male         A-         Arthritis        2024-03-16  LLC Smith   \n",
       "freq    27774       6969              9308                50         44   \n",
       "\n",
       "       Insurance Provider Admission Type Discharge Date Medication  \\\n",
       "count               55500          55500          55500      55500   \n",
       "unique                  5              3           1856          5   \n",
       "top                 Cigna       Elective     2020-03-15    Lipitor   \n",
       "freq                11249          18655             53      11140   \n",
       "\n",
       "       Test Results  \n",
       "count         55500  \n",
       "unique            3  \n",
       "top        Abnormal  \n",
       "freq          18627  "
      ]
     },
     "execution_count": 7,
     "metadata": {},
     "output_type": "execute_result"
    }
   ],
   "source": [
    "#summary statistics for categorical data\n",
    "df.describe(include='object')"
   ]
  },
  {
   "cell_type": "markdown",
   "id": "6b326af7",
   "metadata": {},
   "source": [
    "# Feature Engineering"
   ]
  },
  {
   "cell_type": "code",
   "execution_count": 8,
   "id": "d7f0270c",
   "metadata": {},
   "outputs": [],
   "source": [
    "#categorize hospital based on their billing\n",
    "\n",
    "# Define billing amount bins \n",
    "bins = [df['Billing Amount'].min(), \n",
    "        df['Billing Amount'].quantile(0.33),  \n",
    "        df['Billing Amount'].quantile(0.67),  \n",
    "        df['Billing Amount'].max()]  \n",
    "\n",
    "# Define category labels\n",
    "labels = ['Low-cost', 'Medium-cost', 'High-cost']\n",
    "\n",
    "#New column categorizing hospitals based on billing amount\n",
    "df['Hospital Category'] = pd.cut(df['Billing Amount'], bins=bins, labels=labels, include_lowest=True)\n"
   ]
  },
  {
   "cell_type": "code",
   "execution_count": 9,
   "id": "580622e8",
   "metadata": {},
   "outputs": [
    {
     "name": "stdout",
     "output_type": "stream",
     "text": [
      "                      Hospital  Billing Amount Hospital Category\n",
      "0              Sons and Miller    18856.281306       Medium-cost\n",
      "1                      Kim Inc    33643.327287       Medium-cost\n",
      "2                     Cook PLC    27955.096079       Medium-cost\n",
      "3   Hernandez Rogers and Vang,    37909.782410         High-cost\n",
      "4                  White-White    14238.317814          Low-cost\n",
      "5               Nunez-Humphrey    48145.110951         High-cost\n",
      "6              Group Middleton    19580.872345       Medium-cost\n",
      "7  Powell Robinson and Valdez,    45820.462722         High-cost\n",
      "8                Sons Rich and    50119.222792         High-cost\n",
      "9               Padilla-Walker    19784.631062       Medium-cost\n"
     ]
    }
   ],
   "source": [
    "# Display hospital categories\n",
    "print(df[['Hospital', 'Billing Amount', 'Hospital Category']].head(10))"
   ]
  },
  {
   "cell_type": "code",
   "execution_count": 10,
   "id": "30e32ddf",
   "metadata": {},
   "outputs": [
    {
     "data": {
      "text/plain": [
       "Age                      int64\n",
       "Gender                  object\n",
       "Blood Type              object\n",
       "Medical Condition       object\n",
       "Date of Admission       object\n",
       "Hospital                object\n",
       "Insurance Provider      object\n",
       "Billing Amount         float64\n",
       "Admission Type          object\n",
       "Discharge Date          object\n",
       "Medication              object\n",
       "Test Results            object\n",
       "target                   int64\n",
       "Hospital Category     category\n",
       "dtype: object"
      ]
     },
     "execution_count": 10,
     "metadata": {},
     "output_type": "execute_result"
    }
   ],
   "source": [
    "df.dtypes"
   ]
  },
  {
   "cell_type": "code",
   "execution_count": 11,
   "id": "3dc0a579",
   "metadata": {},
   "outputs": [],
   "source": [
    "# Length of Stay\n",
    "\n",
    "# Convert date columns to datetime\n",
    "df[\"Date of Admission\"] = pd.to_datetime(df[\"Date of Admission\"])\n",
    "df[\"Discharge Date\"] = pd.to_datetime(df[\"Discharge Date\"])\n",
    "df[\"Length of Stay\"] = (df[\"Discharge Date\"] - df[\"Date of Admission\"]).dt.days"
   ]
  },
  {
   "cell_type": "code",
   "execution_count": 12,
   "id": "47d0743a",
   "metadata": {},
   "outputs": [],
   "source": [
    "df['Age'] = pd.to_numeric(df['Age'], errors='coerce')"
   ]
  },
  {
   "cell_type": "markdown",
   "id": "0a373465",
   "metadata": {},
   "source": [
    "# Define a function to Create Visualizations"
   ]
  },
  {
   "cell_type": "code",
   "execution_count": 17,
   "id": "c9587159",
   "metadata": {},
   "outputs": [],
   "source": [
    "def create_visualization(data):\n",
    "     # Distribution of Hospital Admissions by Insurance Provider\n",
    "    plt.figure(figsize=(12,6))\n",
    "    sns.countplot(data=df, x='Insurance Provider', hue='Hospital Category', palette='BuGn')\n",
    "    plt.title(\"Distribution of Hospital Admissions by Insurance Provider Category\")\n",
    "    plt.xlabel(\"Insurance Provider\")\n",
    "    plt.ylabel(\"Number of Admissions\")\n",
    "    plt.savefig('visualizations/Hospital Admissions by Insurance Provider.png')\n",
    "    plt.close()\n",
    "    \n",
    "    # Admission Type Breakdown (Emergency vs. Elective vs. Urgent)\n",
    "    df['Admission Type'].value_counts().plot.pie(autopct='%1.1f%%', colors=['red', 'blue', 'green'], startangle=90)\n",
    "    plt.title(\"Proportion of Admission Types\")\n",
    "    plt.ylabel(\"\")  \n",
    "    plt.savefig('visualizations/Proportion of Admission Types.png')\n",
    "    plt.close()\n",
    "    \n",
    "    #Health care cost among insurance providers\n",
    "    plt.figure(figsize=(12,6))\n",
    "    sns.boxplot(data=df, x='Insurance Provider', y='Billing Amount')\n",
    "    plt.title(\"Healthcare Costs Across Insurance Providers\")\n",
    "    plt.xlabel(\"Insurance Provider\")\n",
    "    plt.ylabel(\"Billing Amount (Naira)\")\n",
    "    plt.savefig('visualizations/Healthcare Costs Across Insurance Providers.png')\n",
    "    plt.close()\n",
    "    \n",
    "    #Emergency Rate by provider\n",
    "    sns.barplot(x=df[\"Insurance Provider\"], y=df[\"Admission Type\"]== 'Emergency')\n",
    "    plt.xticks(rotation=90)\n",
    "    plt.title(\"Emergency Admission Rate by Insurance Provider\")\n",
    "    plt.savefig('visualizations/Emergency Rate by provider.png')\n",
    "    plt.close()\n",
    "    \n",
    "    # Age Distribution of patients\n",
    "    sns.histplot(df['Age'], bins=20, kde=True, color='blue')\n",
    "    plt.title(\" Age Distribution of Patients\")\n",
    "    plt.xlabel(\"Age\")\n",
    "    plt.ylabel(\"Count\")\n",
    "    plt.savefig('visualizations/Age Distribution.png')\n",
    "    plt.close()\n",
    "\n",
    "# Create visualizations directory if it doesn't exist\n",
    "if not os.path.exists('visualizations'):\n",
    "    os.makedirs('visualizations')"
   ]
  },
  {
   "cell_type": "code",
   "execution_count": 18,
   "id": "7cc69ed4",
   "metadata": {},
   "outputs": [],
   "source": [
    "# Generate visualizations\n",
    "create_visualization(df)"
   ]
  },
  {
   "cell_type": "code",
   "execution_count": null,
   "id": "b661b1ac",
   "metadata": {},
   "outputs": [],
   "source": []
  }
 ],
 "metadata": {
  "kernelspec": {
   "display_name": "Python 3 (ipykernel)",
   "language": "python",
   "name": "python3"
  },
  "language_info": {
   "codemirror_mode": {
    "name": "ipython",
    "version": 3
   },
   "file_extension": ".py",
   "mimetype": "text/x-python",
   "name": "python",
   "nbconvert_exporter": "python",
   "pygments_lexer": "ipython3",
   "version": "3.12.7"
  }
 },
 "nbformat": 4,
 "nbformat_minor": 5
}
